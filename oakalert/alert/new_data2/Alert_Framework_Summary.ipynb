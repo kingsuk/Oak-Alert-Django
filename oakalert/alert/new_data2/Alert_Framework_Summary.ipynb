{
 "cells": [
  {
   "cell_type": "code",
   "execution_count": null,
   "id": "82cfd463",
   "metadata": {
    "ExecuteTime": {
     "end_time": "2021-08-24T06:47:24.332417Z",
     "start_time": "2021-08-24T06:47:23.898332Z"
    }
   },
   "outputs": [],
   "source": [
    "import pandas as pd\n",
    "import os\n",
    "import plotly.express as px\n",
    "import plotly.graph_objects as go\n",
    "from plotly.subplots import make_subplots\n",
    "import datetime\n",
    "import warnings\n",
    "warnings.filterwarnings('ignore')\n",
    "from appscript import app, k\n",
    "from mactypes import Alias\n",
    "from pathlib import Path\n",
    "from datetime import timedelta"
   ]
  },
  {
   "cell_type": "code",
   "execution_count": null,
   "id": "f5c0d52a",
   "metadata": {
    "ExecuteTime": {
     "end_time": "2021-08-24T06:47:24.337414Z",
     "start_time": "2021-08-24T06:47:24.333546Z"
    }
   },
   "outputs": [],
   "source": [
    "def generate_graph(df,variable,name_of_the_variable):\n",
    "    # Create figure with secondary y-axis\n",
    "    fig = make_subplots(specs=[[{\"secondary_y\": True}]])\n",
    "\n",
    "    # Add traces\n",
    "    fig.add_trace(\n",
    "        go.Scatter(x=df['Time stamp'], y=df[variable], name=name_of_the_variable),\n",
    "        secondary_y=False,\n",
    "    )\n",
    "    fig.add_trace(\n",
    "        go.Scatter(x=df['Time stamp'], y=df['Threshold'], name=\"Threshold\"),\n",
    "        secondary_y=False,\n",
    "    )\n",
    "\n",
    "\n",
    "    fig.add_trace(\n",
    "        go.Scatter(x=df['Time stamp'], y=df['Flag'], name=\"Flag\",text=df[\"alert text\"],textposition=\"bottom center\"\\\n",
    "                   ,mode='lines+markers+text',marker=dict(color=df['color_marker']),line=dict(color='#00FE35')),\n",
    "        secondary_y=True,\n",
    "    )\n",
    "\n",
    "    # Add figure title\n",
    "    fig.update_layout(\n",
    "        title_text=\"<b>Alert Generation Graph</b>\",title_x=0.5\n",
    "    )\n",
    "\n",
    "    # Set x-axis title\n",
    "    # fig.update_xaxes(title_text=\"xaxis title\")\n",
    "\n",
    "    # Set y-axes titles\n",
    "    fig.update_yaxes(title_text=\"<b>\"+ name_of_the_variable +\"</b> \", secondary_y=False)\n",
    "    fig.update_yaxes(title_text=\"<b>Alert</b>\", secondary_y=True)\n",
    "\n",
    "    fig.show()\n",
    "    return "
   ]
  },
  {
   "cell_type": "markdown",
   "id": "05d9b2f7",
   "metadata": {},
   "source": [
    "# Alerts Generation"
   ]
  },
  {
   "cell_type": "code",
   "execution_count": null,
   "id": "66788aa4",
   "metadata": {
    "ExecuteTime": {
     "end_time": "2021-08-24T10:04:14.555102Z",
     "start_time": "2021-08-24T10:04:14.533288Z"
    }
   },
   "outputs": [],
   "source": [
    "def generate_alert_report(df,variable,threshold,name_of_the_variable,case,obs_count):\n",
    "    start=datetime.datetime.now()\n",
    "#     print(\"Alert Report Generation Starts @ \"+ str(start))\n",
    "\n",
    "    df['Flag']=0\n",
    "    if case==\"greater\":\n",
    "        df.loc[df[variable]>threshold,'Flag']=1  \n",
    "    else:\n",
    "        df.loc[df[variable]<threshold,'Flag']=1  \n",
    "\n",
    "    df['Alert Log']=\"No Alert\"\n",
    "    \n",
    "    count=0\n",
    "    add=[]\n",
    "    z=0\n",
    "    \n",
    "    for i in range(obs_count,df['Flag'].shape[0]):\n",
    "#         print(df['Time stamp'][i])\n",
    "        j=i-obs_count\n",
    "        while j< i:\n",
    "            if df['Flag'][i]>=df['Flag'][j] & df['Flag'][i]!=0:\n",
    "                count+=1\n",
    "                if count>obs_count and ((df['Alert Log'][i-1]!=\"Alert\") and (df['Alert Log'][i-2]!=\"Alert\")):\n",
    "                    z+=1\n",
    "#                     print(\"Alert\"+df['Time stamp'][i])\n",
    "                    add.append(df['Time stamp'][i])\n",
    "                    df['Alert Log'].iloc[i]=\"Alert\"\n",
    "    #                 print(z)\n",
    "                    if z==1:\n",
    "                        abc=1\n",
    "#                         print(\"Email Sent\")\n",
    "    #                     create_message_with_attachment(df['Time stamp'][i])\n",
    "                    break\n",
    "                    count=6\n",
    "            else:\n",
    "                break\n",
    "            j+=1\n",
    "\n",
    "\n",
    "    add=list(set(add))\n",
    "    len(add)\n",
    "\n",
    "#     print(\"Total Number of Alerts:\" + str(len(add)))\n",
    "\n",
    "    df['color_marker']=np.where(df['Alert Log']==\"Alert\", 'red', '#00FE35')\n",
    "    df['Threshold']=threshold\n",
    "\n",
    "    df['alert text']=np.where(df['Alert Log']==\"Alert\",\"Alert\",\"\")\n",
    "    \n",
    "#     generate_graph(df,variable,name_of_the_variable)\n",
    "    \n",
    "#     print(\"Alert Report Generation Ends @ \"+ str(datetime.datetime.now()))\n",
    "#     print(\"************************************************************************************\")\n",
    "    return df"
   ]
  },
  {
   "cell_type": "code",
   "execution_count": null,
   "id": "3ea3e9fc",
   "metadata": {},
   "outputs": [],
   "source": [
    "def generate_alert_report(df,variable,threshold,name_of_the_variable,case,obs_count):\n",
    "#     start=datetime.now()\n",
    "#     print(\"Alert Report Generation Starts @ \"+ str(start))\n",
    "#     df['Time stamp']=df['Time stamp'].apply(lambda x: datetime.strptime(x,\"%Y-%m-%d %H:%M:%S\"))\n",
    "    df=df.sort_values(\"Time stamp\")\n",
    "    df.reset_index(drop=True,inplace=True)\n",
    "    df['Flag']=0\n",
    "    if case==\"greater\":\n",
    "        df.loc[df[variable]>threshold,'Flag']=1  \n",
    "    else:\n",
    "        df.loc[df[variable]<threshold,'Flag']=1  \n",
    "\n",
    "    df['Alert Log']=\"No Alert\"\n",
    "    \n",
    "    count=0\n",
    "    add=[]\n",
    "    z=0\n",
    "    \n",
    "    for i in range(obs_count,df['Flag'].shape[0]):\n",
    "        count=0\n",
    "        j=i-obs_count\n",
    "        if df['Flag'][i]==1:\n",
    "            while j<i:\n",
    "                if (df['Flag'][j]==1):\n",
    "                    count+=1\n",
    "                    if count>obs_count-1 and ((df['Flag'][i-1]==1) and (df['Alert Log'][i-1]!=\"Alert\")) \\\n",
    "                        and ((df['Alert Log'][i-2]!=\"Alert\") and (df['Flag'][i-2]==1))\\\n",
    "                            and ((df['Alert Log'][i-3]!=\"Alert\") and (df['Flag'][i-3]==1)):\n",
    "                        z+=1\n",
    "                        add.append(df['Time stamp'][i])\n",
    "                        df['Alert Log'].iloc[i]=\"Alert\"\n",
    "                        if z==1:\n",
    "                            abc=1\n",
    "        #                     create_message_with_attachment(df['Time stamp'][i])\n",
    "                    j+=1\n",
    "    #                     break\n",
    "    #                     count=obs_count\n",
    "                else:\n",
    "                    break\n",
    "        else:\n",
    "            pass\n",
    "            \n",
    "\n",
    "\n",
    "    add=list(set(add))\n",
    "    len(add)\n",
    "\n",
    "#     display((\"## Total Number of Alerts:\" + str(len(add))))\n",
    "\n",
    "    df['color_marker']='#00FE35'\n",
    "    df.loc[df['Alert Log']==\"Alert\",'color_marker']=\"red\"\n",
    "    df['Threshold']=threshold\n",
    "\n",
    "    df['alert text']=np.where(df['Alert Log']==\"Alert\",\"Alert\",\"\")\n",
    "    \n",
    "#     generate_graph(df,variable,name_of_the_variable)\n",
    "    \n",
    "#     print(\"Alert Report Generation Ends @ \"+ str(datetime.now()))\n",
    "#     print(\"************************************************************************************************************************************)\")\n",
    "    return df"
   ]
  },
  {
   "cell_type": "markdown",
   "id": "63c8a584",
   "metadata": {},
   "source": [
    "# Voltage Imbalance Alerts"
   ]
  },
  {
   "cell_type": "code",
   "execution_count": null,
   "id": "634a4f4b",
   "metadata": {
    "ExecuteTime": {
     "end_time": "2021-08-24T06:47:24.377346Z",
     "start_time": "2021-08-24T06:47:24.346264Z"
    }
   },
   "outputs": [],
   "source": [
    "files=os.listdir(\"new_data2\")\n",
    "\n",
    "voltage_file=[]\n",
    "for file in files:\n",
    "    if file.find(\"-v\")!=-1:\n",
    "        voltage_file.append(file)\n",
    "\n",
    "final_voltage=pd.DataFrame()\n",
    "for file_ in voltage_file:\n",
    "    temp=pd.read_csv(\"new_data2/\"+file_)\n",
    "    final_voltage=pd.concat([final_voltage,temp],axis=0)\n",
    "\n",
    "final_voltage.drop_duplicates(inplace=True)\n",
    "final_voltage.reset_index(drop=True,inplace=True)\n",
    "\n",
    "final_voltage.sort_values(\"Time stamp\",inplace=True)"
   ]
  },
  {
   "cell_type": "code",
   "execution_count": null,
   "id": "0b9d6a19",
   "metadata": {
    "ExecuteTime": {
     "end_time": "2021-08-24T06:47:24.646499Z",
     "start_time": "2021-08-24T06:47:24.378374Z"
    },
    "scrolled": true
   },
   "outputs": [],
   "source": [
    "mains_voltage=final_voltage.columns[2:5]\n",
    "\n",
    "final_voltage['Mean_Voltage']=(final_voltage[mains_voltage[0]]+final_voltage[mains_voltage[1]]+final_voltage[mains_voltage[2]])/3\n",
    "\n",
    "final_alert=pd.DataFrame()\n",
    "for vol in mains_voltage:\n",
    "#     print(vol)\n",
    "    final_voltage[vol+\" %\"]=round(abs(final_voltage[vol]-final_voltage['Mean_Voltage'])*100/final_voltage['Mean_Voltage'],2)\n",
    "    variable=vol+\" %\"\n",
    "    threshold=2\n",
    "    name_of_the_variable=\"Voltage\"\n",
    "    case='greater'\n",
    "    check=final_voltage[['Time stamp',vol,\"Mean_Voltage\",variable]]\n",
    "    check.rename(columns={vol:\"Voltage\",variable:'Voltage %'},inplace=True)\n",
    "    check['variable']=vol\n",
    "    temp_=generate_alert_report(check,\"Voltage %\",threshold,name_of_the_variable,case,6)\n",
    "    final_alert=pd.concat([final_alert,temp_],axis=0)"
   ]
  },
  {
   "cell_type": "code",
   "execution_count": null,
   "id": "bea2f027",
   "metadata": {
    "ExecuteTime": {
     "end_time": "2021-08-24T06:47:24.649564Z",
     "start_time": "2021-08-24T06:47:24.647628Z"
    },
    "scrolled": true
   },
   "outputs": [],
   "source": [
    "# mains_voltage=final_voltage.columns[4:7]\n",
    "\n",
    "# final_voltage['Mean_Voltage']=(final_voltage[mains_voltage[0]]+final_voltage[mains_voltage[1]]+final_voltage[mains_voltage[2]])/3\n",
    "\n",
    "# # final_alert=pd.DataFrame()\n",
    "# for vol in mains_voltage:\n",
    "#     print(vol)\n",
    "#     final_voltage[vol+\" %\"]=round(abs(final_voltage[vol]-final_voltage['Mean_Voltage'])*100/final_voltage['Mean_Voltage'],2)\n",
    "#     variable=vol+\" %\"\n",
    "#     threshold=2\n",
    "#     name_of_the_variable=\"Voltage\"\n",
    "#     case='greater'\n",
    "#     check=final_voltage[['Time stamp',vol,\"Mean_Voltage\",variable]]\n",
    "#     check.rename(columns={vol:\"Voltage\",variable:'Voltage %'},inplace=True)\n",
    "#     check['variable']=vol\n",
    "#     temp_=generate_alert_report(check,\"Voltage %\",threshold,name_of_the_variable,case,6)\n",
    "#     final_alert=pd.concat([final_alert,temp_],axis=0)"
   ]
  },
  {
   "cell_type": "code",
   "execution_count": null,
   "id": "d39e5820",
   "metadata": {
    "ExecuteTime": {
     "end_time": "2021-08-24T06:47:24.653517Z",
     "start_time": "2021-08-24T06:47:24.650710Z"
    }
   },
   "outputs": [],
   "source": [
    "final_voltage_alert=final_alert.copy()"
   ]
  },
  {
   "cell_type": "markdown",
   "id": "6f0a9357",
   "metadata": {},
   "source": [
    "# Phase Imbalance"
   ]
  },
  {
   "cell_type": "code",
   "execution_count": null,
   "id": "57d3f0a7",
   "metadata": {
    "ExecuteTime": {
     "end_time": "2021-08-24T06:47:24.684147Z",
     "start_time": "2021-08-24T06:47:24.655801Z"
    }
   },
   "outputs": [],
   "source": [
    "files=os.listdir(\"new_data2\")\n",
    "\n",
    "voltage_file=[]\n",
    "for file in files:\n",
    "    if file.find(\"-c\")!=-1:\n",
    "        voltage_file.append(file)\n",
    "\n",
    "final_current=pd.DataFrame()\n",
    "for file_ in voltage_file:\n",
    "    temp=pd.read_csv(\"new_data2/\"+file_)\n",
    "    final_current=pd.concat([final_current,temp],axis=0)\n",
    "\n",
    "final_current.drop_duplicates(inplace=True)\n",
    "final_current.reset_index(drop=True,inplace=True)\n",
    "\n",
    "final_current.sort_values(\"Time stamp\",inplace=True)"
   ]
  },
  {
   "cell_type": "code",
   "execution_count": null,
   "id": "ade87f99",
   "metadata": {
    "ExecuteTime": {
     "end_time": "2021-08-24T06:47:27.880542Z",
     "start_time": "2021-08-24T06:47:24.685973Z"
    },
    "scrolled": true
   },
   "outputs": [],
   "source": [
    "mains_voltage=final_current.columns[2:5]\n",
    "\n",
    "final_current['mains_mean_Current']=(final_current[mains_voltage[0]]+final_current[mains_voltage[1]]+final_current[mains_voltage[2]])/3\n",
    "\n",
    "final_alert=pd.DataFrame()\n",
    "for vol in mains_voltage:\n",
    "#     print(vol)\n",
    "    final_current[vol+\" %\"]=round(abs(final_current[vol]-final_current['mains_mean_Current'])*100/final_current['mains_mean_Current'],2)\n",
    "    variable=vol+\" %\"\n",
    "    threshold=15\n",
    "    name_of_the_variable=\"Current\"\n",
    "    case='greater'\n",
    "    check=final_current[['Time stamp',vol,\"mains_mean_Current\",variable]]\n",
    "    check.rename(columns={vol:\"Current\",variable:'Current %'},inplace=True)\n",
    "    check['variable']=vol\n",
    "    temp_=generate_alert_report(check,\"Current %\",threshold,name_of_the_variable,case,6)\n",
    "    final_alert=pd.concat([final_alert,temp_],axis=0)"
   ]
  },
  {
   "cell_type": "code",
   "execution_count": null,
   "id": "089bc8b4",
   "metadata": {
    "ExecuteTime": {
     "end_time": "2021-08-24T06:47:27.883049Z",
     "start_time": "2021-08-24T06:47:27.881516Z"
    },
    "scrolled": true
   },
   "outputs": [],
   "source": [
    "# mains_voltage=final_current.columns[4:7]\n",
    "\n",
    "# final_current['mains_mean_Current']=(final_current[mains_voltage[0]]+final_current[mains_voltage[1]]+final_current[mains_voltage[2]])/3\n",
    "\n",
    "# # final_alert=pd.DataFrame()\n",
    "# for vol in mains_voltage:\n",
    "#     print(vol)\n",
    "#     final_current[vol+\" %\"]=round(abs(final_current[vol]-final_current['mains_mean_Current'])*100/final_current['mains_mean_Current'],2)\n",
    "#     variablea=vol+\" %\"\n",
    "#     threshold=15\n",
    "#     name_of_the_variable=\"Current\"\n",
    "#     case='greater'\n",
    "#     check=final_current[['Time stamp',vol,\"mains_mean_Current\",variable]]\n",
    "#     check.rename(columns={vol:\"Current\",variable:'Current %'},inplace=True)\n",
    "#     check['variable']=vol\n",
    "#     temp_=generate_alert_report(check,\"Current %\",threshold,name_of_the_variable,case,6)\n",
    "#     final_alert=pd.concat([final_alert,temp_],axis=0)"
   ]
  },
  {
   "cell_type": "code",
   "execution_count": null,
   "id": "a57e606a",
   "metadata": {
    "ExecuteTime": {
     "end_time": "2021-08-24T06:47:27.886052Z",
     "start_time": "2021-08-24T06:47:27.884034Z"
    }
   },
   "outputs": [],
   "source": [
    "final_current_alert=final_alert.copy()"
   ]
  },
  {
   "cell_type": "code",
   "execution_count": null,
   "id": "d04c33e2",
   "metadata": {
    "ExecuteTime": {
     "end_time": "2021-08-24T06:47:27.888357Z",
     "start_time": "2021-08-24T06:47:27.886994Z"
    },
    "scrolled": true
   },
   "outputs": [],
   "source": [
    "# mains_voltage=['Main 1 L1   (A)', 'Main 1 L2   (A)','Main 1 L3   (A)']\n",
    "\n",
    "# df['mains_mean_Current']=(df[mains_voltage[0]]+df[mains_voltage[1]]+df[mains_voltage[2]])/3\n",
    "\n",
    "# for vol in mains_voltage:\n",
    "#     print(vol)\n",
    "#     df[vol+\" %\"]=round(abs(df[vol]-df['mains_mean_Current'])*100/df['mains_mean_Current'],2)\n",
    "#     variable=vol+\" %\"\n",
    "#     threshold=15\n",
    "#     name_of_the_variable=\"Current\"\n",
    "#     case='greater'\n",
    "#     generate_alert_report(variable,threshold,name_of_the_variable,case)"
   ]
  },
  {
   "cell_type": "markdown",
   "id": "57f28d60",
   "metadata": {},
   "source": [
    "# Power Factor Alerts"
   ]
  },
  {
   "cell_type": "code",
   "execution_count": null,
   "id": "d686a902",
   "metadata": {
    "ExecuteTime": {
     "end_time": "2021-08-24T06:47:27.912051Z",
     "start_time": "2021-08-24T06:47:27.889179Z"
    }
   },
   "outputs": [],
   "source": [
    "files=os.listdir(\"new_data2\")\n",
    "\n",
    "voltage_file=[]\n",
    "for file in files:\n",
    "    if file.find(\"-p\")!=-1:\n",
    "        voltage_file.append(file)\n",
    "\n",
    "final_pf=pd.DataFrame()\n",
    "for file_ in voltage_file:\n",
    "    temp=pd.read_csv(\"new_data2/\"+file_)\n",
    "    final_pf=pd.concat([final_pf,temp],axis=0)\n",
    "\n",
    "final_pf.drop_duplicates(inplace=True)\n",
    "final_pf.reset_index(drop=True,inplace=True)\n",
    "\n",
    "# final_pf.sort_values(\"Time stamp\",inplace=True)"
   ]
  },
  {
   "cell_type": "code",
   "execution_count": null,
   "id": "23dbf7f1",
   "metadata": {
    "ExecuteTime": {
     "end_time": "2021-08-24T10:05:55.023343Z",
     "start_time": "2021-08-24T10:05:54.922466Z"
    }
   },
   "outputs": [],
   "source": [
    "power_factor=final_pf.columns[1:]\n",
    "final_alert=pd.DataFrame()\n",
    "for pf in power_factor:\n",
    "#     print(pf)\n",
    "    variable=\"PF\"\n",
    "    threshold=0.9\n",
    "    name_of_the_variable=\"Power Factor\"\n",
    "    case='lesser'\n",
    "    check=final_pf[['Time stamp',pf]]\n",
    "    check.rename(columns={pf:\"PF\"},inplace=True)\n",
    "    check['variable']=pf\n",
    "    temp_=generate_alert_report(check,variable,threshold,name_of_the_variable,case,6)\n",
    "    final_alert=pd.concat([final_alert,temp_],axis=0)"
   ]
  },
  {
   "cell_type": "code",
   "execution_count": null,
   "id": "c1552c23",
   "metadata": {
    "ExecuteTime": {
     "end_time": "2021-08-24T06:47:28.711860Z",
     "start_time": "2021-08-24T06:47:28.709534Z"
    }
   },
   "outputs": [],
   "source": [
    "final_pf_alert=final_alert.copy()"
   ]
  },
  {
   "cell_type": "code",
   "execution_count": null,
   "id": "9fc8d4e4",
   "metadata": {
    "ExecuteTime": {
     "end_time": "2021-08-24T06:47:28.714174Z",
     "start_time": "2021-08-24T06:47:28.712812Z"
    },
    "scrolled": true
   },
   "outputs": [],
   "source": [
    "# power_factor=final_pd.columns[1:]\n",
    "# for pf in power_factor:\n",
    "#     print(pf)\n",
    "#     variabale=pf\n",
    "#     threshold=0.9\n",
    "#     name_of_the_variable=\"Power Factor\"\n",
    "#     case='lesser'\n",
    "#     generate_alert_report(variable,threshold,name_of_the_variable,case)"
   ]
  },
  {
   "cell_type": "code",
   "execution_count": null,
   "id": "3c6f49e5",
   "metadata": {
    "ExecuteTime": {
     "end_time": "2021-08-24T06:47:28.732258Z",
     "start_time": "2021-08-24T06:47:28.715064Z"
    }
   },
   "outputs": [],
   "source": [
    "files=os.listdir(\"new_data2\")\n",
    "\n",
    "voltage_file=[]\n",
    "for file in files:\n",
    "    if file.find(\"-e\")!=-1:\n",
    "        voltage_file.append(file)\n",
    "\n",
    "energy=pd.DataFrame()\n",
    "for file_ in voltage_file:\n",
    "    temp=pd.read_csv(\"new_data2/\"+file_)\n",
    "    energy=pd.concat([energy,temp],axis=0)\n",
    "\n",
    "energy.drop_duplicates(inplace=True)\n",
    "energy.reset_index(drop=True,inplace=True)\n",
    "\n",
    "energy.sort_values(\"Time stamp\",inplace=True)"
   ]
  },
  {
   "cell_type": "code",
   "execution_count": null,
   "id": "9b96ada0",
   "metadata": {
    "ExecuteTime": {
     "end_time": "2021-08-24T06:47:28.773998Z",
     "start_time": "2021-08-24T06:47:28.733230Z"
    }
   },
   "outputs": [],
   "source": [
    "files=os.listdir(\"new_data2/benchmark\")\n",
    "\n",
    "voltage_file=[]\n",
    "for file in files:\n",
    "    if file.find(\"-e\")!=-1:\n",
    "        voltage_file.append(file)\n",
    "\n",
    "energy1=pd.DataFrame()\n",
    "for file_ in voltage_file:\n",
    "    temp=pd.read_csv(\"new_data2/benchmark/\"+file_)\n",
    "    energy1=pd.concat([energy1,temp],axis=0)\n",
    "\n",
    "energy1.drop_duplicates(inplace=True)\n",
    "energy1.reset_index(drop=True,inplace=True)\n",
    "\n",
    "energy1.sort_values(\"Time stamp\",inplace=True)"
   ]
  },
  {
   "cell_type": "code",
   "execution_count": null,
   "id": "b4362313",
   "metadata": {
    "ExecuteTime": {
     "end_time": "2021-08-24T06:47:28.778373Z",
     "start_time": "2021-08-24T06:47:28.775000Z"
    }
   },
   "outputs": [],
   "source": [
    "energy=pd.concat([energy,energy1],axis=0)"
   ]
  },
  {
   "cell_type": "code",
   "execution_count": null,
   "id": "f8ed8305",
   "metadata": {
    "ExecuteTime": {
     "end_time": "2021-08-24T06:47:28.782998Z",
     "start_time": "2021-08-24T06:47:28.779456Z"
    }
   },
   "outputs": [],
   "source": [
    "energy=energy.sort_values(\"Time stamp\")"
   ]
  },
  {
   "cell_type": "code",
   "execution_count": null,
   "id": "4e9582bf",
   "metadata": {
    "ExecuteTime": {
     "end_time": "2021-08-24T06:47:28.819808Z",
     "start_time": "2021-08-24T06:47:28.787563Z"
    }
   },
   "outputs": [],
   "source": [
    "df=energy.copy()\n",
    "df['Time stamp']=df['Time stamp'].apply(lambda x: datetime.datetime.strptime(x,'%Y-%m-%d %H:%M'))\n",
    "df = df.sort_values('Time stamp')\n",
    "df['hour']=df['Time stamp'].dt.hour\n",
    "df['weekday'] = df['Time stamp'].dt.day_name()\n",
    "df['trading_cat'] = df['hour'].apply(lambda x: 'trading' if (x >= 14 and x <= 23) else ('non-trading' if (x >= 0 and x <= 10) else 'sleep'))\n",
    "df.loc[(df['weekday'] == 'Monday') & (df['hour'] >10) & (df['hour'] <17), 'trading_cat'] = 'sleep'\n",
    "df.loc[(df['weekday'] == 'Tuesday') & (df['hour'] >11) & (df['hour'] <17), 'trading_cat'] = 'sleep'\n",
    "df.loc[(df['weekday'] == 'Wednesday') & (df['hour'] >14) & (df['hour'] <17), 'trading_cat'] = 'sleep'\n",
    "df.loc[(df['weekday'] == 'Wednesday') & (df['hour'] >0) & (df['hour'] <15), 'trading_cat'] = 'non-trading'\n",
    "df.loc[(df['weekday'] == 'Thursday') & (df['hour'] >14) & (df['hour'] <17), 'trading_cat'] = 'sleep'\n",
    "df.loc[(df['weekday'] == 'Thursday') & (df['hour'] >0) & (df['hour'] <15), 'trading_cat'] = 'non-trading'\n",
    "df.loc[(df['weekday'] == 'Friday') & (df['hour'] >13) & (df['hour'] <15), 'trading_cat'] = 'sleep'\n",
    "df.loc[(df['weekday'] == 'Friday') & (df['hour'] >0) & (df['hour'] <14), 'trading_cat'] = 'non-trading'\n",
    "df.loc[(df['weekday'] == 'Saturday') & (df['hour'] >12) & (df['hour'] <15), 'trading_cat'] = 'sleep'\n",
    "df.loc[(df['weekday'] == 'Saturday') & (df['hour'] >0) & (df['hour'] <13), 'trading_cat'] = 'non-trading'\n",
    "df.loc[(df['weekday'] == 'Sunday') & (df['hour'] >13) & (df['hour'] <15), 'trading_cat'] = 'sleep'\n",
    "df.loc[(df['weekday'] == 'Sunday') & (df['hour'] >0) & (df['hour'] <14), 'trading_cat'] = 'non-trading'"
   ]
  },
  {
   "cell_type": "code",
   "execution_count": null,
   "id": "c0b00e4c",
   "metadata": {
    "ExecuteTime": {
     "end_time": "2021-08-24T06:47:28.828363Z",
     "start_time": "2021-08-24T06:47:28.822837Z"
    }
   },
   "outputs": [],
   "source": [
    "def generate_alert_report_energy(temp,variable,threshold,name_of_the_variable,case,obs_count):\n",
    "#     start=datetime.now()\n",
    "#     print(\"Alert Report Generation Starts @ \"+ str(start))\n",
    "#     temp['Time stamp']=temp['Time stamp'].apply(lambda x: datetime.strptime(x,\"%Y-%m-%d %H:%M:%S\"))\n",
    "    temp=temp.sort_values(\"Time stamp\")\n",
    "    temp.reset_index(drop=True,inplace=True)\n",
    "    temp['Flag']=0\n",
    "    if case==\"greater\":\n",
    "        temp.loc[temp[variable]>temp['threshold'],'Flag']=1  \n",
    "    else:\n",
    "        temp.loc[temp[variable]<temp['threshold'],'Flag']=1  \n",
    "\n",
    "    temp['Alert Log']=\"No Alert\"\n",
    "    \n",
    "    count=0\n",
    "    add=[]\n",
    "    z=0\n",
    "    \n",
    "    for i in range(obs_count,temp['Flag'].shape[0]):\n",
    "#         print(temp['Time stamp'][i])\n",
    "        count=0\n",
    "        j=i-obs_count\n",
    "        if temp['Flag'][i]==1:\n",
    "            while j<i:\n",
    "#                 print(j)\n",
    "                if (temp['Flag'][j]==1):\n",
    "                    count+=1\n",
    "#                     print(\"No of count:\"+str(count))\n",
    "                    if count>obs_count-1 and ((temp['Flag'][i-1]==1) and (temp['Alert Log'][i-1]!=\"Alert\")):#((temp['Alert Log'][i-1]!=\"Alert\") and (temp['Alert Log'][i-2]!=\"Alert\")):\n",
    "                        z+=1\n",
    "#                         print(\"Alert\"+str(temp['Time stamp'][i]))\n",
    "                        add.append(temp['Time stamp'][i])\n",
    "                        temp['Alert Log'].iloc[i]=\"Alert\"\n",
    "        #                 print(z)\n",
    "                        if z==1:\n",
    "                            abc=1\n",
    "    #                         print(\"Email Sent\")\n",
    "        #                     create_message_with_attachment(temp['Time stamp'][i])\n",
    "                    j+=1\n",
    "    #                     break\n",
    "    #                     count=obs_count\n",
    "                else:\n",
    "                    break\n",
    "        else:\n",
    "            pass\n",
    "            \n",
    "\n",
    "\n",
    "    add=list(set(add))\n",
    "    len(add)\n",
    "\n",
    "#     print(\"Total Number of Alerts:\" + str(len(add)))\n",
    "\n",
    "#     temp['color_marker']=np.where(temp['Alert Log']==\"Alert\", 'red', '#00FE35')\n",
    "    temp['color_marker']='#00FE35'\n",
    "    temp.loc[temp['Alert Log']==\"Alert\",'color_marker']=\"red\"\n",
    "    temp['Threshold']=temp['threshold']\n",
    "\n",
    "    temp['alert text']=np.where(temp['Alert Log']==\"Alert\",\"Alert\",\"\")\n",
    "    \n",
    "#     generate_graph(temp,variable,name_of_the_variable)\n",
    "    \n",
    "#     print(\"Alert Report Generation Ends @ \"+ str(datetime.now()))\n",
    "#     print(\"************************************************************************************\")\n",
    "    return temp"
   ]
  },
  {
   "cell_type": "code",
   "execution_count": null,
   "id": "839a8a2d",
   "metadata": {
    "ExecuteTime": {
     "end_time": "2021-08-24T06:47:28.832884Z",
     "start_time": "2021-08-24T06:47:28.829680Z"
    }
   },
   "outputs": [],
   "source": [
    "def get_threshold(date_range,col,trad_cat):\n",
    "    std=df[(df['Time stamp']<date_range.replace(hour=0)) &\n",
    "           (df['Time stamp']>date_range-timedelta(days=30)) &\n",
    "           (df['weekday']==date_range.day_name()) & \n",
    "           (df['trading_cat']==trad_cat)][col].std()\n",
    "    mean=df[(df['Time stamp']<date_range.replace(hour=0)) & \n",
    "            (df['Time stamp']>date_range-timedelta(days=30)) &\n",
    "            (df['weekday']==date_range.day_name()) &\n",
    "            (df['trading_cat']==trad_cat)][col].mean()\n",
    "    threshold=mean+std*2\n",
    "    return threshold"
   ]
  },
  {
   "cell_type": "code",
   "execution_count": null,
   "id": "82588cfb",
   "metadata": {
    "ExecuteTime": {
     "end_time": "2021-08-24T06:47:39.381698Z",
     "start_time": "2021-08-24T06:47:28.833944Z"
    },
    "scrolled": false
   },
   "outputs": [],
   "source": [
    "# flt_df=df[df['Time stamp']>=\"2021-07-01\"]\n",
    "flt_df=df[df['Time stamp']>=\"2021-07-31\"]\n",
    "final_energy_alert=pd.DataFrame()\n",
    "for col in flt_df.columns[1:-3]:\n",
    "    temp=flt_df[['Time stamp',col,'weekday','trading_cat']]\n",
    "#     temp['threshold']=temp['Time stamp'].apply(lambda x: get_threshold(x,col))\n",
    "    temp['threshold']=temp.apply(lambda x: get_threshold(x['Time stamp'],col,x['trading_cat']),axis=1)\n",
    "    temp.rename(columns={col:\"Energy\"},inplace=True)\n",
    "    temp['variable']=col\n",
    "    case='greater'\n",
    "    variable=\"Energy\"\n",
    "    name_of_the_variable=\"Energy\"\n",
    "    temp=temp.sort_values(\"Time stamp\",ascending=0)\n",
    "    temp_=generate_alert_report_energy(temp,variable,threshold,name_of_the_variable,case,2)\n",
    "    final_energy_alert=pd.concat([final_energy_alert,temp_],axis=0)"
   ]
  },
  {
   "cell_type": "code",
   "execution_count": null,
   "id": "adb2aefb",
   "metadata": {
    "ExecuteTime": {
     "end_time": "2021-08-24T06:47:39.390329Z",
     "start_time": "2021-08-24T06:47:39.382847Z"
    },
    "scrolled": true
   },
   "outputs": [],
   "source": [
    "final_energy_alert[final_energy_alert['Alert Log']==\"Alert\"].to_csv(\"Energy_Alert.csv\")"
   ]
  },
  {
   "cell_type": "code",
   "execution_count": null,
   "id": "eaa2ab1f",
   "metadata": {
    "ExecuteTime": {
     "end_time": "2021-08-24T06:47:39.398410Z",
     "start_time": "2021-08-24T06:47:39.391592Z"
    }
   },
   "outputs": [],
   "source": [
    "current=final_current_alert[final_current_alert['Alert Log']==\"Alert\"]"
   ]
  },
  {
   "cell_type": "code",
   "execution_count": null,
   "id": "96cc1b8f",
   "metadata": {
    "ExecuteTime": {
     "end_time": "2021-08-24T06:47:39.405211Z",
     "start_time": "2021-08-24T06:47:39.399515Z"
    }
   },
   "outputs": [],
   "source": [
    "voltage=final_voltage_alert[final_voltage_alert['Alert Log']==\"Alert\"]"
   ]
  },
  {
   "cell_type": "code",
   "execution_count": null,
   "id": "9338c03c",
   "metadata": {
    "ExecuteTime": {
     "end_time": "2021-08-24T09:56:40.199718Z",
     "start_time": "2021-08-24T09:56:40.180218Z"
    }
   },
   "outputs": [],
   "source": [
    "pf=final_pf_alert[final_pf_alert['Alert Log']==\"Alert\"]"
   ]
  },
  {
   "cell_type": "code",
   "execution_count": null,
   "id": "11b0260a",
   "metadata": {
    "ExecuteTime": {
     "end_time": "2021-08-24T06:47:39.419099Z",
     "start_time": "2021-08-24T06:47:39.416214Z"
    }
   },
   "outputs": [],
   "source": [
    "energy=final_energy_alert[final_energy_alert['Alert Log']==\"Alert\"]"
   ]
  },
  {
   "cell_type": "code",
   "execution_count": null,
   "id": "f56fa5c5",
   "metadata": {
    "ExecuteTime": {
     "end_time": "2021-08-24T06:47:39.425609Z",
     "start_time": "2021-08-24T06:47:39.420190Z"
    }
   },
   "outputs": [],
   "source": [
    "current=current.groupby('variable')['Current'].count().to_frame(\"#Alerts\").reset_index()\n",
    "current['Alert Type']=\"Load Imbalance\""
   ]
  },
  {
   "cell_type": "code",
   "execution_count": null,
   "id": "48742dc0",
   "metadata": {
    "ExecuteTime": {
     "end_time": "2021-08-24T06:47:39.431218Z",
     "start_time": "2021-08-24T06:47:39.427504Z"
    }
   },
   "outputs": [],
   "source": [
    "voltage=voltage.groupby('variable')['Voltage'].count().to_frame(\"#Alerts\").reset_index()\n",
    "voltage['Alert Type']=\"Voltage Imbalance\""
   ]
  },
  {
   "cell_type": "code",
   "execution_count": null,
   "id": "2b9722f7",
   "metadata": {
    "ExecuteTime": {
     "end_time": "2021-08-24T06:47:39.436982Z",
     "start_time": "2021-08-24T06:47:39.432335Z"
    }
   },
   "outputs": [],
   "source": [
    "pf=pf.groupby('variable')['PF'].count().to_frame(\"#Alerts\").reset_index()\n",
    "pf['Alert Type']=\"Low Power Factor\""
   ]
  },
  {
   "cell_type": "code",
   "execution_count": null,
   "id": "3c9da953",
   "metadata": {
    "ExecuteTime": {
     "end_time": "2021-08-24T06:47:39.443003Z",
     "start_time": "2021-08-24T06:47:39.438897Z"
    }
   },
   "outputs": [],
   "source": [
    "energy=energy.groupby('variable')['Energy'].count().to_frame(\"#Alerts\").reset_index()\n",
    "energy['Alert Type']=\"Abnormal Energy Consumption\""
   ]
  },
  {
   "cell_type": "code",
   "execution_count": null,
   "id": "21130793",
   "metadata": {
    "ExecuteTime": {
     "end_time": "2021-08-24T09:56:30.774914Z",
     "start_time": "2021-08-24T09:56:30.753211Z"
    }
   },
   "outputs": [],
   "source": [
    "final_alert_summary=pd.concat([current,voltage,pf,energy])"
   ]
  },
  {
   "cell_type": "code",
   "execution_count": null,
   "id": "9e93379d",
   "metadata": {
    "ExecuteTime": {
     "end_time": "2021-08-24T09:56:34.028268Z",
     "start_time": "2021-08-24T09:56:34.009587Z"
    }
   },
   "outputs": [],
   "source": [
    "final_alert_summary"
   ]
  },
  {
   "cell_type": "code",
   "execution_count": null,
   "id": "60843038",
   "metadata": {
    "ExecuteTime": {
     "end_time": "2021-08-24T06:49:15.820996Z",
     "start_time": "2021-08-24T06:49:15.813377Z"
    }
   },
   "outputs": [],
   "source": [
    "final_alert_summary['variable']=final_alert_summary['variable'].apply(lambda x: x.split(\"(\")[0])"
   ]
  },
  {
   "cell_type": "code",
   "execution_count": null,
   "id": "1ef078e6",
   "metadata": {
    "ExecuteTime": {
     "end_time": "2021-08-24T06:49:17.195749Z",
     "start_time": "2021-08-24T06:49:17.171083Z"
    }
   },
   "outputs": [],
   "source": [
    "final_alert_summary=pd.pivot_table(final_alert_summary,index=\"variable\",columns=\"Alert Type\",values=\"#Alerts\").fillna(0)"
   ]
  },
  {
   "cell_type": "code",
   "execution_count": null,
   "id": "d0bffa49",
   "metadata": {
    "ExecuteTime": {
     "end_time": "2021-08-24T06:49:24.416315Z",
     "start_time": "2021-08-24T06:49:24.413431Z"
    }
   },
   "outputs": [],
   "source": [
    "# final_alert_summary"
   ]
  },
  {
   "cell_type": "code",
   "execution_count": null,
   "id": "9e5fcfe1",
   "metadata": {},
   "outputs": [],
   "source": []
  }
 ],
 "metadata": {
  "hide_input": false,
  "kernelspec": {
   "display_name": "Python 3",
   "language": "python",
   "name": "python3"
  },
  "language_info": {
   "codemirror_mode": {
    "name": "ipython",
    "version": 3
   },
   "file_extension": ".py",
   "mimetype": "text/x-python",
   "name": "python",
   "nbconvert_exporter": "python",
   "pygments_lexer": "ipython3",
   "version": "3.9.5"
  },
  "varInspector": {
   "cols": {
    "lenName": 16,
    "lenType": 16,
    "lenVar": 40
   },
   "kernels_config": {
    "python": {
     "delete_cmd_postfix": "",
     "delete_cmd_prefix": "del ",
     "library": "var_list.py",
     "varRefreshCmd": "print(var_dic_list())"
    },
    "r": {
     "delete_cmd_postfix": ") ",
     "delete_cmd_prefix": "rm(",
     "library": "var_list.r",
     "varRefreshCmd": "cat(var_dic_list()) "
    }
   },
   "types_to_exclude": [
    "module",
    "function",
    "builtin_function_or_method",
    "instance",
    "_Feature"
   ],
   "window_display": false
  }
 },
 "nbformat": 4,
 "nbformat_minor": 5
}
